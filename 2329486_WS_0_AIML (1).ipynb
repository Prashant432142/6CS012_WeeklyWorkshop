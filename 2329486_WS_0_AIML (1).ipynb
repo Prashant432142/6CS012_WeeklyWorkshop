{
  "nbformat": 4,
  "nbformat_minor": 0,
  "metadata": {
    "colab": {
      "provenance": []
    },
    "kernelspec": {
      "name": "python3",
      "display_name": "Python 3"
    },
    "language_info": {
      "name": "python"
    }
  },
  "cells": [
    {
      "cell_type": "code",
      "execution_count": 39,
      "metadata": {
        "id": "2h00f-HDu7Tx"
      },
      "outputs": [],
      "source": [
        "import numpy as np"
      ]
    },
    {
      "cell_type": "markdown",
      "source": [
        "# Problem - 1: Array Creation:"
      ],
      "metadata": {
        "id": "HN_oLyQJ1cTD"
      }
    },
    {
      "cell_type": "markdown",
      "source": [
        "1. Initialize an empty array with size 2X2."
      ],
      "metadata": {
        "id": "ZPzp6H24vWH1"
      }
    },
    {
      "cell_type": "code",
      "source": [
        "empty_array = np.empty((2,2))\n",
        "print(empty_array)"
      ],
      "metadata": {
        "colab": {
          "base_uri": "https://localhost:8080/"
        },
        "id": "xwi9yl5T2i_e",
        "outputId": "fe875766-58e3-4e74-9161-fbc3732386f0"
      },
      "execution_count": 5,
      "outputs": [
        {
          "output_type": "stream",
          "name": "stdout",
          "text": [
            "[[1.44267317e-316 0.00000000e+000]\n",
            " [6.54516949e-310 5.33257700e-317]]\n"
          ]
        }
      ]
    },
    {
      "cell_type": "markdown",
      "source": [
        "2. Initialize an all one array with size 4X2.\n"
      ],
      "metadata": {
        "id": "GJjqEEqC1Lv6"
      }
    },
    {
      "cell_type": "code",
      "source": [
        "ones_array = np.ones((4,2))\n",
        "print(ones_array)"
      ],
      "metadata": {
        "colab": {
          "base_uri": "https://localhost:8080/"
        },
        "id": "aZHHJ1fP2lvV",
        "outputId": "ecc3f448-39f0-4f3e-d443-9d2907f30523"
      },
      "execution_count": 6,
      "outputs": [
        {
          "output_type": "stream",
          "name": "stdout",
          "text": [
            "[[1. 1.]\n",
            " [1. 1.]\n",
            " [1. 1.]\n",
            " [1. 1.]]\n"
          ]
        }
      ]
    },
    {
      "cell_type": "markdown",
      "source": [
        "3. Return a new array of given shape and type, filled with fill value.{Hint: np.full}"
      ],
      "metadata": {
        "id": "jIUpTVVv1Mx4"
      }
    },
    {
      "cell_type": "code",
      "source": [
        "full_array = np.full((3,3), 7)  # Example fill value 7\n",
        "print(full_array)"
      ],
      "metadata": {
        "colab": {
          "base_uri": "https://localhost:8080/"
        },
        "id": "VfatP5zs2sL_",
        "outputId": "3e869d86-7c9f-4d39-f074-9da5a293fddd"
      },
      "execution_count": 7,
      "outputs": [
        {
          "output_type": "stream",
          "name": "stdout",
          "text": [
            "[[7 7 7]\n",
            " [7 7 7]\n",
            " [7 7 7]]\n"
          ]
        }
      ]
    },
    {
      "cell_type": "markdown",
      "source": [
        "4. Return a new array of zeros with same shape and type as a given array.{Hint: np.zeros like}"
      ],
      "metadata": {
        "id": "l7FFgsXa1OqJ"
      }
    },
    {
      "cell_type": "code",
      "source": [
        "given_array = np.array([[1,2],[3,4]])\n",
        "zeros_like_array = np.zeros_like(given_array)\n",
        "print(given_array)\n",
        "print(zeros_like_array)"
      ],
      "metadata": {
        "colab": {
          "base_uri": "https://localhost:8080/"
        },
        "id": "bhbdSDli2vR_",
        "outputId": "4d78e4d8-014c-4871-be26-0a32a9854a81"
      },
      "execution_count": 8,
      "outputs": [
        {
          "output_type": "stream",
          "name": "stdout",
          "text": [
            "[[1 2]\n",
            " [3 4]]\n",
            "[[0 0]\n",
            " [0 0]]\n"
          ]
        }
      ]
    },
    {
      "cell_type": "markdown",
      "source": [
        "5. Return a new array of ones with same shape and type as a given array.{Hint: np.ones like}"
      ],
      "metadata": {
        "id": "yO4I-yvj1Qz5"
      }
    },
    {
      "cell_type": "code",
      "source": [
        "ones_like_array = np.ones_like(given_array)\n",
        "print(ones_like_array)"
      ],
      "metadata": {
        "colab": {
          "base_uri": "https://localhost:8080/"
        },
        "id": "RpxDJ2-62yO4",
        "outputId": "a4e48a79-66d7-4bd7-eacd-30ad2cadc71c"
      },
      "execution_count": 9,
      "outputs": [
        {
          "output_type": "stream",
          "name": "stdout",
          "text": [
            "[[1 1]\n",
            " [1 1]]\n"
          ]
        }
      ]
    },
    {
      "cell_type": "markdown",
      "source": [
        "6. For an existing list new_list = [1,2,3,4] convert to an numpy array.{Hint: np.array()}"
      ],
      "metadata": {
        "id": "buct8dQc1SjJ"
      }
    },
    {
      "cell_type": "code",
      "source": [
        "new_list = [1,2,3,4]\n",
        "numpy_array = np.array(new_list)\n",
        "print(numpy_array)"
      ],
      "metadata": {
        "colab": {
          "base_uri": "https://localhost:8080/"
        },
        "id": "fx6CBnRO3Hda",
        "outputId": "04e66fe5-743c-4faf-cdd6-61270f4ea135"
      },
      "execution_count": 10,
      "outputs": [
        {
          "output_type": "stream",
          "name": "stdout",
          "text": [
            "[1 2 3 4]\n"
          ]
        }
      ]
    },
    {
      "cell_type": "markdown",
      "source": [
        "# Problem - 2: Array Manipulation: Numerical Ranges and Array indexing:"
      ],
      "metadata": {
        "id": "yO0hF91S1Yna"
      }
    },
    {
      "cell_type": "markdown",
      "source": [
        "1. Create an array with values ranging from 10 to 49. {Hint:np.arrange()}."
      ],
      "metadata": {
        "id": "YmYkBlyN1UTR"
      }
    },
    {
      "cell_type": "code",
      "source": [
        "range_array = np.arange(10, 50)\n",
        "print(range_array)"
      ],
      "metadata": {
        "colab": {
          "base_uri": "https://localhost:8080/"
        },
        "id": "kSi6cAIB3olH",
        "outputId": "19e968c2-4530-4bcc-fdf9-a43d6713aee7"
      },
      "execution_count": 11,
      "outputs": [
        {
          "output_type": "stream",
          "name": "stdout",
          "text": [
            "[10 11 12 13 14 15 16 17 18 19 20 21 22 23 24 25 26 27 28 29 30 31 32 33\n",
            " 34 35 36 37 38 39 40 41 42 43 44 45 46 47 48 49]\n"
          ]
        }
      ]
    },
    {
      "cell_type": "markdown",
      "source": [
        "2. Create a 3X3 matrix with values ranging from 0 to 8.\n",
        "{Hint:look for np.reshape()}"
      ],
      "metadata": {
        "id": "8qRp1w-Y1WWi"
      }
    },
    {
      "cell_type": "code",
      "source": [
        "matrix_3x3 = np.arange(9).reshape(3,3)\n",
        "print(matrix_3x3)"
      ],
      "metadata": {
        "colab": {
          "base_uri": "https://localhost:8080/"
        },
        "id": "BckMGwAr3t2H",
        "outputId": "84969c0a-f3bd-400c-b7f4-ece228a7e705"
      },
      "execution_count": 12,
      "outputs": [
        {
          "output_type": "stream",
          "name": "stdout",
          "text": [
            "[[0 1 2]\n",
            " [3 4 5]\n",
            " [6 7 8]]\n"
          ]
        }
      ]
    },
    {
      "cell_type": "markdown",
      "source": [
        "3. Create a 3X3 identity matrix.{Hint:np.eye()}"
      ],
      "metadata": {
        "id": "Bt6k4VWs1gbT"
      }
    },
    {
      "cell_type": "code",
      "source": [
        "identity_matrix = np.eye(3)\n",
        "print(identity_matrix)"
      ],
      "metadata": {
        "colab": {
          "base_uri": "https://localhost:8080/"
        },
        "id": "hIhmBFOh3uO_",
        "outputId": "93cd00c1-b107-474f-d960-80f12393da17"
      },
      "execution_count": 13,
      "outputs": [
        {
          "output_type": "stream",
          "name": "stdout",
          "text": [
            "[[1. 0. 0.]\n",
            " [0. 1. 0.]\n",
            " [0. 0. 1.]]\n"
          ]
        }
      ]
    },
    {
      "cell_type": "markdown",
      "source": [
        "4. Create a random array of size 30 and find the mean of the array.\n",
        "{Hint:check for np.random.random() and array.mean() function}"
      ],
      "metadata": {
        "id": "CZyDmj2h1h6c"
      }
    },
    {
      "cell_type": "code",
      "source": [
        "random_array = np.random.random(30)\n",
        "print(random_array)\n",
        "mean_value = random_array.mean()\n",
        "print(\"\\n\",mean_value)"
      ],
      "metadata": {
        "colab": {
          "base_uri": "https://localhost:8080/"
        },
        "id": "wL0LTOwQ3uzY",
        "outputId": "bbc769ea-7ef7-42c9-c068-793b1e8a01d3"
      },
      "execution_count": 15,
      "outputs": [
        {
          "output_type": "stream",
          "name": "stdout",
          "text": [
            "[0.77144655 0.04545177 0.09969406 0.78354828 0.26960412 0.66563356\n",
            " 0.04831878 0.26011247 0.61963862 0.79832743 0.47025778 0.27477891\n",
            " 0.72692451 0.54877687 0.63947363 0.97426158 0.31786423 0.2179163\n",
            " 0.27960066 0.67818369 0.4010579  0.85441863 0.60439311 0.0040604\n",
            " 0.62642869 0.55549884 0.65955328 0.8118026  0.01065757 0.57369722]\n",
            "\n",
            " 0.4863794010343214\n"
          ]
        }
      ]
    },
    {
      "cell_type": "markdown",
      "source": [
        "5. Create a 10X10 array with random values and find the minimum and maximum values."
      ],
      "metadata": {
        "id": "O6FiwKcQ1nJV"
      }
    },
    {
      "cell_type": "code",
      "source": [
        "random_matrix = np.random.random((10,10))\n",
        "print(random_matrix,\"\\n\")\n",
        "min_value, max_value = random_matrix.min(), random_matrix.max()\n",
        "print(\"Minimum value:\", min_value)\n",
        "print(\"Maximum value:\", max_value)"
      ],
      "metadata": {
        "colab": {
          "base_uri": "https://localhost:8080/"
        },
        "id": "N7aCxYBS3vMY",
        "outputId": "69f636d5-9d27-4bad-8899-91493453ed90"
      },
      "execution_count": 16,
      "outputs": [
        {
          "output_type": "stream",
          "name": "stdout",
          "text": [
            "[[0.65197098 0.62303836 0.72000062 0.42656405 0.92854956 0.83761898\n",
            "  0.53441739 0.10987334 0.53991256 0.98188143]\n",
            " [0.65249082 0.19404919 0.79469224 0.1576105  0.86768435 0.89495253\n",
            "  0.15692009 0.02913269 0.31380365 0.51742574]\n",
            " [0.24755388 0.4142354  0.18878374 0.31520225 0.36516218 0.96698401\n",
            "  0.23200032 0.25218185 0.91445495 0.63622732]\n",
            " [0.10668646 0.172567   0.672096   0.77243494 0.17407715 0.46670806\n",
            "  0.63405764 0.65829559 0.69696566 0.67222339]\n",
            " [0.58587918 0.39401618 0.56458373 0.93320042 0.19442112 0.4893101\n",
            "  0.82529289 0.55860098 0.25975527 0.13815241]\n",
            " [0.11045421 0.98862953 0.9421213  0.27300077 0.83430703 0.29049054\n",
            "  0.71753791 0.43735973 0.92713344 0.28153763]\n",
            " [0.30656898 0.21511126 0.20067758 0.89869921 0.30073571 0.96726391\n",
            "  0.57018105 0.39795715 0.50969752 0.21055031]\n",
            " [0.7324855  0.93118272 0.68243982 0.50812473 0.31910527 0.48624651\n",
            "  0.08037313 0.36163861 0.03162879 0.91643096]\n",
            " [0.87391921 0.74801012 0.61133244 0.8817371  0.91214115 0.58055181\n",
            "  0.1079988  0.94289733 0.44414452 0.0360593 ]\n",
            " [0.87987442 0.26257431 0.63093756 0.2212993  0.86676861 0.62290535\n",
            "  0.40529926 0.35573501 0.20493997 0.03005211]] \n",
            "\n",
            "Minimum value: 0.02913268666663904\n",
            "Maximum value: 0.9886295272676671\n"
          ]
        }
      ]
    },
    {
      "cell_type": "markdown",
      "source": [
        "6. Create a zero array of size 10 and replace 5th element with 1."
      ],
      "metadata": {
        "id": "O2lspHAI1oqd"
      }
    },
    {
      "cell_type": "code",
      "source": [
        "zero_array = np.zeros(10)\n",
        "print(zero_array)\n",
        "print(\"\\n\")\n",
        "zero_array[4] = 1\n",
        "print(zero_array)"
      ],
      "metadata": {
        "colab": {
          "base_uri": "https://localhost:8080/"
        },
        "id": "DlIfF_pS3wbf",
        "outputId": "af48d312-c251-4e71-e479-f42d76b64aed"
      },
      "execution_count": 17,
      "outputs": [
        {
          "output_type": "stream",
          "name": "stdout",
          "text": [
            "[0. 0. 0. 0. 0. 0. 0. 0. 0. 0.]\n",
            "\n",
            "\n",
            "[0. 0. 0. 0. 1. 0. 0. 0. 0. 0.]\n"
          ]
        }
      ]
    },
    {
      "cell_type": "markdown",
      "source": [
        "7. Reverse an array arr = [1,2,0,0,4,0]."
      ],
      "metadata": {
        "id": "mBIW1jc01qGs"
      }
    },
    {
      "cell_type": "code",
      "source": [
        "arr = np.array([1,2,0,0,4,0])\n",
        "print(arr)\n",
        "print(\"\\n\")\n",
        "reversed_arr = arr[::-1]\n",
        "print(reversed_arr)"
      ],
      "metadata": {
        "colab": {
          "base_uri": "https://localhost:8080/"
        },
        "id": "LCb3Hl983wQw",
        "outputId": "1e9c51aa-a43c-4e3b-c183-fadae3110978"
      },
      "execution_count": 18,
      "outputs": [
        {
          "output_type": "stream",
          "name": "stdout",
          "text": [
            "[1 2 0 0 4 0]\n",
            "\n",
            "\n",
            "[0 4 0 0 2 1]\n"
          ]
        }
      ]
    },
    {
      "cell_type": "markdown",
      "source": [
        "8. Create a 2d array with 1 on border and 0 inside."
      ],
      "metadata": {
        "id": "NtaTMvUL1rwl"
      }
    },
    {
      "cell_type": "code",
      "source": [
        "border_array = np.ones((5,5))\n",
        "print(border_array)\n",
        "print(\"\\n\")\n",
        "border_array[1:-1, 1:-1] = 0\n",
        "print(border_array)"
      ],
      "metadata": {
        "colab": {
          "base_uri": "https://localhost:8080/"
        },
        "id": "XH599BzQ3wFX",
        "outputId": "5ac1b456-df98-4283-c497-e6081fd63ef4"
      },
      "execution_count": 19,
      "outputs": [
        {
          "output_type": "stream",
          "name": "stdout",
          "text": [
            "[[1. 1. 1. 1. 1.]\n",
            " [1. 1. 1. 1. 1.]\n",
            " [1. 1. 1. 1. 1.]\n",
            " [1. 1. 1. 1. 1.]\n",
            " [1. 1. 1. 1. 1.]]\n",
            "\n",
            "\n",
            "[[1. 1. 1. 1. 1.]\n",
            " [1. 0. 0. 0. 1.]\n",
            " [1. 0. 0. 0. 1.]\n",
            " [1. 0. 0. 0. 1.]\n",
            " [1. 1. 1. 1. 1.]]\n"
          ]
        }
      ]
    },
    {
      "cell_type": "markdown",
      "source": [
        "9. Create a 8X8 matrix and fill it with a checkerboard pattern."
      ],
      "metadata": {
        "id": "0Q34YJ1f1teF"
      }
    },
    {
      "cell_type": "code",
      "source": [
        "checkerboard = np.zeros((8,8), dtype=int)\n",
        "checkerboard[1::2, ::2] = 1\n",
        "checkerboard[::2, 1::2] = 1\n",
        "print(checkerboard)"
      ],
      "metadata": {
        "colab": {
          "base_uri": "https://localhost:8080/"
        },
        "id": "0BXJIZfS3v2P",
        "outputId": "d73f20ca-337e-4609-abdb-5b47d42e35cc"
      },
      "execution_count": 20,
      "outputs": [
        {
          "output_type": "stream",
          "name": "stdout",
          "text": [
            "[[0 1 0 1 0 1 0 1]\n",
            " [1 0 1 0 1 0 1 0]\n",
            " [0 1 0 1 0 1 0 1]\n",
            " [1 0 1 0 1 0 1 0]\n",
            " [0 1 0 1 0 1 0 1]\n",
            " [1 0 1 0 1 0 1 0]\n",
            " [0 1 0 1 0 1 0 1]\n",
            " [1 0 1 0 1 0 1 0]]\n"
          ]
        }
      ]
    },
    {
      "cell_type": "markdown",
      "source": [
        "# Problem - 3: Array Operations:"
      ],
      "metadata": {
        "id": "DseTZuPp1va1"
      }
    },
    {
      "cell_type": "markdown",
      "source": [
        "For the following arrays:\n",
        "x = np.array([[1,2],[3,5]]) and y = np.array([[5,6],[7,8]]);\n",
        "v = np.array([9,10]) and w = np.array([11,12]);\n",
        "\n",
        "Complete all the task using numpy:\n",
        "1. Add the two array.\n",
        "2. Subtract the two array.\n",
        "3. Multiply the array with any integers of your choice.\n",
        "4. Find the square of each element of the array.\n",
        "5. Find the dot product between: v(and)w ; x(and)v ; x(and)y.\n",
        "6. Concatenate x(and)y along row and Concatenate v(and)w along column.\n",
        "{Hint:try np.concatenate() or np.vstack() functions.\n",
        "7. Concatenate x(and)v; if you get an error, observe and explain why did you get the error?"
      ],
      "metadata": {
        "id": "S45S02ES13RO"
      }
    },
    {
      "cell_type": "code",
      "source": [
        "# Problem - 3: Array Operations\n",
        "x = np.array([[1,2],[3,5]])\n",
        "y = np.array([[5,6],[7,8]])\n",
        "v = np.array([9,10])\n",
        "w = np.array([11,12])\n",
        "sum_arrays = x + y\n",
        "print(\"Addition \\n\",sum_arrays)\n",
        "sub_arrays = x - y\n",
        "print(\"Subraction \\n\",sub_arrays)\n",
        "mul_arrays = x * y\n",
        "print(\"Multiplication \\n\",mul_arrays)\n",
        "\n",
        "print(\"\\n\")\n",
        "\n",
        "squared_array = x ** 2\n",
        "print(\"Squared array \\n\",squared_array)\n",
        "\n",
        "print(\"\\n\")\n",
        "\n",
        "dot_vw = np.dot(v, w)\n",
        "print(\"v and w dot product \\n\",dot_vw)\n",
        "\n",
        "dot_xv = np.dot(x, v)\n",
        "print(\"v and x dot product \\n\",dot_xv)\n",
        "\n",
        "dot_xy = np.dot(x, y)\n",
        "print(\"x and y dot product \\n\",dot_xy)\n",
        "\n",
        "print(\"\\n\")\n",
        "\n",
        "x_y_concat = np.concatenate((x, y), axis=0)\n",
        "print(\"x and y concat \\n\",x_y_concat)\n",
        "\n",
        "v_w_concat = np.column_stack((v, w))\n",
        "print(\"v and w concat \\n\",v_w_concat)\n",
        "\n",
        "\n"
      ],
      "metadata": {
        "colab": {
          "base_uri": "https://localhost:8080/"
        },
        "id": "e5pwivxk3x8P",
        "outputId": "77f73681-adfd-4d8c-c462-c0797bbcdf94"
      },
      "execution_count": 28,
      "outputs": [
        {
          "output_type": "stream",
          "name": "stdout",
          "text": [
            "Addition \n",
            " [[ 6  8]\n",
            " [10 13]]\n",
            "Subraction \n",
            " [[-4 -4]\n",
            " [-4 -3]]\n",
            "Multiplication \n",
            " [[ 5 12]\n",
            " [21 40]]\n",
            "\n",
            "\n",
            "Squared array \n",
            " [[ 1  4]\n",
            " [ 9 25]]\n",
            "\n",
            "\n",
            "v and w dot product \n",
            " 219\n",
            "v and x dot product \n",
            " [29 77]\n",
            "x and y dot product \n",
            " [[19 22]\n",
            " [50 58]]\n",
            "\n",
            "\n",
            "x and y concat \n",
            " [[1 2]\n",
            " [3 5]\n",
            " [5 6]\n",
            " [7 8]]\n",
            "v and w concat \n",
            " [[ 9 11]\n",
            " [10 12]]\n"
          ]
        }
      ]
    },
    {
      "cell_type": "code",
      "source": [
        "# x_v_concat = np.concatenate((x, v), axis=0)  # Raises error: shape mismatch"
      ],
      "metadata": {
        "colab": {
          "base_uri": "https://localhost:8080/",
          "height": 176
        },
        "id": "yZVQy3-i4Gdr",
        "outputId": "b9b8d437-cc26-4e12-c96b-61bb5ce71f22"
      },
      "execution_count": 29,
      "outputs": [
        {
          "output_type": "error",
          "ename": "ValueError",
          "evalue": "all the input arrays must have same number of dimensions, but the array at index 0 has 2 dimension(s) and the array at index 1 has 1 dimension(s)",
          "traceback": [
            "\u001b[0;31m---------------------------------------------------------------------------\u001b[0m",
            "\u001b[0;31mValueError\u001b[0m                                Traceback (most recent call last)",
            "\u001b[0;32m<ipython-input-29-ff239e6c4e77>\u001b[0m in \u001b[0;36m<cell line: 0>\u001b[0;34m()\u001b[0m\n\u001b[0;32m----> 1\u001b[0;31m \u001b[0mx_v_concat\u001b[0m \u001b[0;34m=\u001b[0m \u001b[0mnp\u001b[0m\u001b[0;34m.\u001b[0m\u001b[0mconcatenate\u001b[0m\u001b[0;34m(\u001b[0m\u001b[0;34m(\u001b[0m\u001b[0mx\u001b[0m\u001b[0;34m,\u001b[0m \u001b[0mv\u001b[0m\u001b[0;34m)\u001b[0m\u001b[0;34m,\u001b[0m \u001b[0maxis\u001b[0m\u001b[0;34m=\u001b[0m\u001b[0;36m0\u001b[0m\u001b[0;34m)\u001b[0m  \u001b[0;31m# Raises error: shape mismatch\u001b[0m\u001b[0;34m\u001b[0m\u001b[0;34m\u001b[0m\u001b[0m\n\u001b[0m",
            "\u001b[0;31mValueError\u001b[0m: all the input arrays must have same number of dimensions, but the array at index 0 has 2 dimension(s) and the array at index 1 has 1 dimension(s)"
          ]
        }
      ]
    },
    {
      "cell_type": "markdown",
      "source": [
        "# Problem - 4: Matrix Operations:"
      ],
      "metadata": {
        "id": "yUE_dXTR16Fm"
      }
    },
    {
      "cell_type": "markdown",
      "source": [
        "• For the following arrays:\n",
        "A = np.array([[3,4],[7,8]]) and B = np.array([[5,3],[2,1]]);\n",
        "Prove following with Numpy:\n",
        "1. Prove A.A^−1 = I.\n",
        "2. Prove A*B ̸= B*A.\n",
        "3. Prove (AB)^T = B^T*A^T"
      ],
      "metadata": {
        "id": "EkgeT8992E8h"
      }
    },
    {
      "cell_type": "code",
      "source": [
        "# Problem - 4: Matrix Operations\n",
        "A = np.array([[3,4],[7,8]])\n",
        "B = np.array([[5,3],[2,1]])\n",
        "A_inv = np.linalg.inv(A)\n",
        "identity_proof = np.dot(A, A_inv)\n",
        "AB = np.dot(A, B)\n",
        "BA = np.dot(B, A)\n",
        "AB_T = np.transpose(AB)\n",
        "BT_AT = np.dot(B.T, A.T)\n",
        "print(\"Inverse of A\")\n",
        "print(A_inv)\n",
        "print(\"\\n\")\n",
        "print(\"Identity matrix result\")\n",
        "print(identity_proof)\n",
        "print(\"\\n\")\n",
        "print(\"A.B\")\n",
        "print(AB)\n",
        "print(\"\\n\")\n",
        "print(\"B.A\")\n",
        "print(BA)\n",
        "print(\"\\n\")\n",
        "print(\"AB.T\")\n",
        "print(AB_T)\n",
        "print(\"\\n\")\n",
        "print(\"B.T.A.T\")\n",
        "print(BT_AT)\n",
        "print(\"\\n\")"
      ],
      "metadata": {
        "colab": {
          "base_uri": "https://localhost:8080/"
        },
        "id": "_Zd7q2xk3xl_",
        "outputId": "0b19fff2-d43a-4969-ff4e-43b9a7c14e09"
      },
      "execution_count": 32,
      "outputs": [
        {
          "output_type": "stream",
          "name": "stdout",
          "text": [
            "Inverse of A\n",
            "[[-2.    1.  ]\n",
            " [ 1.75 -0.75]]\n",
            "\n",
            "\n",
            "Identity matrix result\n",
            "[[1.00000000e+00 0.00000000e+00]\n",
            " [1.77635684e-15 1.00000000e+00]]\n",
            "\n",
            "\n",
            "A.B\n",
            "[[23 13]\n",
            " [51 29]]\n",
            "\n",
            "\n",
            "B.A\n",
            "[[36 44]\n",
            " [13 16]]\n",
            "\n",
            "\n",
            "AB.T\n",
            "[[23 51]\n",
            " [13 29]]\n",
            "\n",
            "\n",
            "B.T.A.T\n",
            "[[23 51]\n",
            " [13 29]]\n",
            "\n",
            "\n"
          ]
        }
      ]
    },
    {
      "cell_type": "markdown",
      "source": [
        "Solve the following system of Linear equation using Inverse Methods.\n",
        "\n",
        "2x − 3y + z = −1 <br>\n",
        "x − y + 2z = −3 <br>\n",
        "3x + y − z = 9\n",
        "\n",
        "{Hint: First use Numpy array to represent the equation in Matrix form. Then Solve for: AX = B}"
      ],
      "metadata": {
        "id": "DDHSpyBJ2ShU"
      }
    },
    {
      "cell_type": "code",
      "source": [
        "# Solving Linear Equations\n",
        "print(\"In form AX=B\")\n",
        "coeff_matrix = np.array([[2,-3,1], [1,-1,2], [3,1,-1]])\n",
        "print(\"A\\n\",coeff_matrix)\n",
        "const_matrix = np.array([-1,-3,9])\n",
        "print(\"B\\n\",const_matrix)"
      ],
      "metadata": {
        "colab": {
          "base_uri": "https://localhost:8080/"
        },
        "id": "jqu9DKQn38DJ",
        "outputId": "54b17bf0-5344-4ac3-afa8-d6f45193a81f"
      },
      "execution_count": 35,
      "outputs": [
        {
          "output_type": "stream",
          "name": "stdout",
          "text": [
            "In form AX=B\n",
            "A\n",
            " [[ 2 -3  1]\n",
            " [ 1 -1  2]\n",
            " [ 3  1 -1]]\n",
            "B\n",
            " [-1 -3  9]\n"
          ]
        }
      ]
    },
    {
      "cell_type": "markdown",
      "source": [
        "Now: solve the above equation using np.linalg.inv function.{Explore more about ”linalg” func-\n",
        "tion of Numpy}"
      ],
      "metadata": {
        "id": "mQIY84v12Zx7"
      }
    },
    {
      "cell_type": "code",
      "source": [
        "solution = np.linalg.solve(coeff_matrix, const_matrix)\n",
        "print(\"X\\n\",solution)"
      ],
      "metadata": {
        "colab": {
          "base_uri": "https://localhost:8080/"
        },
        "id": "vUEVIiFV3xPo",
        "outputId": "9c0986ab-4514-4c56-b279-cd030d44c797"
      },
      "execution_count": 37,
      "outputs": [
        {
          "output_type": "stream",
          "name": "stdout",
          "text": [
            "X\n",
            " [ 2.  1. -2.]\n"
          ]
        }
      ]
    },
    {
      "cell_type": "code",
      "source": [
        "import time"
      ],
      "metadata": {
        "id": "-5QR3qky8amZ"
      },
      "execution_count": 40,
      "outputs": []
    },
    {
      "cell_type": "markdown",
      "source": [
        "# 10.2 Experiment: How Fast is Numpy?\n",
        "In this exercise, you will compare the performance and implementation of operations using plain Python\n",
        "lists (arrays) and NumPy arrays. Follow the instructions:"
      ],
      "metadata": {
        "id": "Zy0s3hkq84Y2"
      }
    },
    {
      "cell_type": "markdown",
      "source": [
        "1. Element-wise Addition:\n",
        "* Using Python Lists, perform element-wise addition of two lists of size 1, 000, 000. Measure\n",
        "and Print the time taken for this operation.\n",
        "* Using Numpy Arrays, Repeat the calculation and measure and print the time taken for\n",
        "this operation."
      ],
      "metadata": {
        "id": "RFc0acUO9F3P"
      }
    },
    {
      "cell_type": "code",
      "source": [
        "\n",
        "\n",
        "# Create list1, list2, numpy_arr1 and numpy_arr2\n",
        "size = 1000000  # or any desired size for your lists\n",
        "list1 = [i for i in range(size)]\n",
        "list2 = [i * 2 for i in range(size)]\n",
        "numpy_arr1 = np.array(list1)\n",
        "numpy_arr2 = np.array(list2)\n",
        "\n",
        "\n",
        "# Element-wise Addition\n",
        "start_time = time.time()\n",
        "list_add = [list1[i] + list2[i] for i in range(size)]\n",
        "list_add_time = time.time() - start_time\n",
        "\n",
        "start_time = time.time()\n",
        "numpy_add = numpy_arr1 + numpy_arr2\n",
        "numpy_add_time = time.time() - start_time\n",
        "\n",
        "print(\"List Addition Time:\", list_add_time)\n",
        "print(\"NumPy Addition Time:\", numpy_add_time)"
      ],
      "metadata": {
        "colab": {
          "base_uri": "https://localhost:8080/"
        },
        "id": "L0ATQKL39Lo4",
        "outputId": "dca4e3b4-4be6-43d1-a214-b6ae844cb0a5"
      },
      "execution_count": 45,
      "outputs": [
        {
          "output_type": "stream",
          "name": "stdout",
          "text": [
            "List Addition Time: 0.09384799003601074\n",
            "NumPy Addition Time: 0.009604454040527344\n"
          ]
        }
      ]
    },
    {
      "cell_type": "markdown",
      "source": [
        "2. Element-wise Multiplication\n",
        "* Using Python Lists, perform element-wise multiplication of two lists of size 1, 000, 000.\n",
        "Measure and Print the time taken for this operation.\n",
        "* Using Numpy Arrays, Repeat the calculation and measure and print the time taken for\n",
        "this operation."
      ],
      "metadata": {
        "id": "9efkPLo09x3W"
      }
    },
    {
      "cell_type": "code",
      "source": [
        "# Element-wise Multiplication\n",
        "start_time = time.time()\n",
        "list_mult = [list1[i] * list2[i] for i in range(size)]\n",
        "list_mult_time = time.time() - start_time\n",
        "\n",
        "start_time = time.time()\n",
        "numpy_mult = numpy_arr1 * numpy_arr2\n",
        "numpy_mult_time = time.time() - start_time\n",
        "\n",
        "print(\"List Multiplication Time:\", list_mult_time)\n",
        "print(\"NumPy Multiplication Time:\", numpy_mult_time)"
      ],
      "metadata": {
        "colab": {
          "base_uri": "https://localhost:8080/"
        },
        "id": "S-FZeZMG9RpB",
        "outputId": "be6686d8-4391-40e0-f98e-e05e0ed50ca4"
      },
      "execution_count": 46,
      "outputs": [
        {
          "output_type": "stream",
          "name": "stdout",
          "text": [
            "List Multiplication Time: 0.18908023834228516\n",
            "NumPy Multiplication Time: 0.007491111755371094\n"
          ]
        }
      ]
    },
    {
      "cell_type": "markdown",
      "source": [
        "3. Dot Product\n",
        "* Using Python Lists, compute the dot product of two lists of size 1, 000, 000. Measure and\n",
        "Print the time taken for this operation.\n",
        "* Using Numpy Arrays, Repeat the calculation and measure and print the time taken for\n",
        "this operation."
      ],
      "metadata": {
        "id": "RrCVnEqj92vv"
      }
    },
    {
      "cell_type": "code",
      "source": [
        "# Dot Product\n",
        "start_time = time.time()\n",
        "list_dot = sum(list1[i] * list2[i] for i in range(size))\n",
        "list_dot_time = time.time() - start_time\n",
        "\n",
        "start_time = time.time()\n",
        "numpy_dot = np.dot(numpy_arr1, numpy_arr2)\n",
        "numpy_dot_time = time.time() - start_time\n",
        "\n",
        "print(\"List Dot Product Time:\", list_dot_time)\n",
        "print(\"NumPy Dot Product Time:\", numpy_dot_time)"
      ],
      "metadata": {
        "colab": {
          "base_uri": "https://localhost:8080/"
        },
        "id": "mpQSw-zE9RYK",
        "outputId": "3c158227-395c-4881-ec31-9abf9c44513e"
      },
      "execution_count": 47,
      "outputs": [
        {
          "output_type": "stream",
          "name": "stdout",
          "text": [
            "List Dot Product Time: 0.09543323516845703\n",
            "NumPy Dot Product Time: 0.0017178058624267578\n"
          ]
        }
      ]
    },
    {
      "cell_type": "markdown",
      "source": [
        "4. Matrix Multiplication\n",
        "\n",
        "* Using Python lists, perform matrix multiplication of two matrices of size 1000x1000. Mea-\n",
        "sure and print the time taken for this operation.\n",
        "\n",
        "* Using NumPy arrays, perform matrix multiplication of two matrices of size 1000x1000.\n",
        "Measure and print the time taken for this operation."
      ],
      "metadata": {
        "id": "ZJ1uxToZ97H_"
      }
    },
    {
      "cell_type": "code",
      "source": [
        "# Matrix Multiplication\n",
        "matrix_size = 1000\n",
        "list_matrix1 = [[i for i in range(matrix_size)] for _ in range(matrix_size)]\n",
        "list_matrix2 = [[i for i in range(matrix_size)] for _ in range(matrix_size)]\n",
        "\n",
        "start_time = time.time()\n",
        "result_matrix = [[sum(a*b for a, b in zip(row, col)) for col in zip(*list_matrix2)] for row in list_matrix1]\n",
        "list_matrix_time = time.time() - start_time\n",
        "\n",
        "numpy_matrix1 = np.arange(matrix_size**2).reshape(matrix_size, matrix_size)\n",
        "numpy_matrix2 = np.arange(matrix_size**2).reshape(matrix_size, matrix_size)\n",
        "\n",
        "start_time = time.time()\n",
        "numpy_matrix_mult = np.dot(numpy_matrix1, numpy_matrix2)\n",
        "numpy_matrix_time = time.time() - start_time\n",
        "\n",
        "print(\"List Matrix Multiplication Time:\", list_matrix_time)\n",
        "print(\"NumPy Matrix Multiplication Time:\", numpy_matrix_time)"
      ],
      "metadata": {
        "colab": {
          "base_uri": "https://localhost:8080/"
        },
        "id": "ucLlQNSM9gSL",
        "outputId": "13a83be2-3a3a-4b87-ef32-9ea2169ca2af"
      },
      "execution_count": 48,
      "outputs": [
        {
          "output_type": "stream",
          "name": "stdout",
          "text": [
            "List Matrix Multiplication Time: 170.18989396095276\n",
            "NumPy Matrix Multiplication Time: 1.702852487564087\n"
          ]
        }
      ]
    }
  ]
}